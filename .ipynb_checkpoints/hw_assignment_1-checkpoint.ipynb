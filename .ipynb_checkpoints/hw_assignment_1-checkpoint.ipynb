{
 "cells": [
  {
   "cell_type": "code",
   "execution_count": 1,
   "metadata": {},
   "outputs": [
    {
     "name": "stdout",
     "output_type": "stream",
     "text": [
      "Hello World!\n"
     ]
    }
   ],
   "source": [
    "#Exercise 5: What is wrong with the following code:\n",
    "#>>> primt 'Hello world!'\n",
    "#File \"<stdin>\", line 1\n",
    "#primt 'Hello world!'\n",
    "#^\n",
    "#SyntaxError: invalid syntax\n",
    "#>>>\n",
    "\n",
    "#Below is the corrected code: print was mispelled and paranthesis were missing around Hello World!\n",
    "\n",
    "print ('Hello World!')"
   ]
  },
  {
   "cell_type": "code",
   "execution_count": 2,
   "metadata": {},
   "outputs": [
    {
     "name": "stdout",
     "output_type": "stream",
     "text": [
      "44\n"
     ]
    }
   ],
   "source": [
    "#Exercise 7: What will the following program print out:\n",
    "#x = 43\n",
    "#x = x + 1\n",
    "#print(x)\n",
    "#a) 43\n",
    "#b) 44\n",
    "#c) x + 1\n",
    "#d) Error because x = x + 1 is not possible mathematically\n",
    "\n",
    "x=43\n",
    "x=x+1\n",
    "print(x)\n",
    "\n",
    "#Answer is x=44 because initial x value was assigned to second equation"
   ]
  },
  {
   "cell_type": "code",
   "execution_count": 4,
   "metadata": {},
   "outputs": [],
   "source": [
    "#Exercise 9: How do you fix a “Syntax Error”?\n",
    "\n",
    "\n",
    "#A syntax error means that you have violated the “grammar” rules of Python.\n",
    "#Python does its best to point right at the line and character where it noticed\n",
    "#it was confused. The only tricky bit of syntax errors is that sometimes the\n",
    "#mistake that needs fixing is actually earlier in the program than where Python\n",
    "#noticed it was confused. So the line and character that Python indicates in\n",
    "#a syntax error may just be a starting point for your investigation.\n",
    "\n",
    "#Reference: Pythong for Everybody Section 1.10 Page-13 "
   ]
  },
  {
   "cell_type": "code",
   "execution_count": null,
   "metadata": {},
   "outputs": [],
   "source": []
  }
 ],
 "metadata": {
  "kernelspec": {
   "display_name": "Python 3",
   "language": "python",
   "name": "python3"
  },
  "language_info": {
   "codemirror_mode": {
    "name": "ipython",
    "version": 3
   },
   "file_extension": ".py",
   "mimetype": "text/x-python",
   "name": "python",
   "nbconvert_exporter": "python",
   "pygments_lexer": "ipython3",
   "version": "3.6.7"
  }
 },
 "nbformat": 4,
 "nbformat_minor": 2
}
